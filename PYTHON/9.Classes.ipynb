{
 "cells": [
  {
   "cell_type": "code",
   "execution_count": 2,
   "metadata": {},
   "outputs": [],
   "source": [
    "#Object oriented programming.\n",
    "#syntax\n",
    "#----------------------------\n",
    "class NameOfFunction():\n",
    "    def __init__(self,p1,p2):\n",
    "        self.p1=p1\n",
    "        self.p2=p2\n",
    "    def some_method(self):\n",
    "        self.p=p\n",
    "#----------------------------        "
   ]
  },
  {
   "cell_type": "code",
   "execution_count": 3,
   "metadata": {},
   "outputs": [],
   "source": [
    "class Sample():\n",
    "    pass"
   ]
  },
  {
   "cell_type": "code",
   "execution_count": 25,
   "metadata": {},
   "outputs": [
    {
     "data": {
      "text/plain": [
       "'john jurasfsky'"
      ]
     },
     "execution_count": 25,
     "metadata": {},
     "output_type": "execute_result"
    }
   ],
   "source": [
    " class Learn():\n",
    "        #init is the first method that gets invoked.\n",
    "        def __init__(self,topic,hours,teacher):\n",
    "            #Attribute\n",
    "            #We take a argument.\n",
    "            #Assign it using self.attribute_name\n",
    "            self.att=topic\n",
    "            self.att2=hours\n",
    "            self.att3=teacher\n",
    "var=Learn(topic='python',hours=12,teacher='john jurasfsky') \n",
    "#While getting the values we use attribute name along with the object variable.\n",
    "var.att3"
   ]
  },
  {
   "cell_type": "code",
   "execution_count": 27,
   "metadata": {},
   "outputs": [
    {
     "data": {
      "text/plain": [
       "'python'"
      ]
     },
     "execution_count": 27,
     "metadata": {},
     "output_type": "execute_result"
    }
   ],
   "source": [
    "var.att\n"
   ]
  },
  {
   "cell_type": "markdown",
   "metadata": {},
   "source": [
    "## "
   ]
  },
  {
   "cell_type": "raw",
   "metadata": {},
   "source": []
  },
  {
   "cell_type": "code",
   "execution_count": 29,
   "metadata": {},
   "outputs": [
    {
     "data": {
      "text/plain": [
       "12"
      ]
     },
     "execution_count": 29,
     "metadata": {},
     "output_type": "execute_result"
    }
   ],
   "source": [
    "var.att2"
   ]
  },
  {
   "cell_type": "code",
   "execution_count": 35,
   "metadata": {},
   "outputs": [],
   "source": [
    "#Inheritance:\n",
    "#Its about obtaining a feature from parent to child.\n",
    "class Animal():\n",
    "    def __init__(self):\n",
    "        print('ANIMALS')\n",
    "        \n",
    "    def describe(self):\n",
    "        print('im class animal')\n",
    "        \n",
    "    def eat(self):\n",
    "        print('I can eat')"
   ]
  },
  {
   "cell_type": "code",
   "execution_count": 36,
   "metadata": {},
   "outputs": [],
   "source": [
    "class Dog(Animal):\n",
    "    def __init(self):\n",
    "        Animal.__init__(self)\n",
    "        print(\"DOG ADDED\")\n",
    "    def describe(self):\n",
    "        print('I m a Dog')\n",
    "    def prop(self):\n",
    "        print('i can bark')"
   ]
  },
  {
   "cell_type": "code",
   "execution_count": 37,
   "metadata": {},
   "outputs": [
    {
     "name": "stdout",
     "output_type": "stream",
     "text": [
      "ANIMALS\n"
     ]
    }
   ],
   "source": [
    "myDog=Dog()"
   ]
  },
  {
   "cell_type": "code",
   "execution_count": 38,
   "metadata": {},
   "outputs": [
    {
     "name": "stdout",
     "output_type": "stream",
     "text": [
      "I can eat\n"
     ]
    }
   ],
   "source": [
    "myDog.eat()"
   ]
  },
  {
   "cell_type": "code",
   "execution_count": 39,
   "metadata": {},
   "outputs": [
    {
     "name": "stdout",
     "output_type": "stream",
     "text": [
      "I m a Dog\n"
     ]
    }
   ],
   "source": [
    "myDog.describe()"
   ]
  },
  {
   "cell_type": "code",
   "execution_count": 40,
   "metadata": {},
   "outputs": [
    {
     "name": "stdout",
     "output_type": "stream",
     "text": [
      "i can bark\n"
     ]
    }
   ],
   "source": [
    "myDog.prop()"
   ]
  },
  {
   "cell_type": "code",
   "execution_count": null,
   "metadata": {},
   "outputs": [],
   "source": []
  }
 ],
 "metadata": {
  "kernelspec": {
   "display_name": "Python 3",
   "language": "python",
   "name": "python3"
  },
  "language_info": {
   "codemirror_mode": {
    "name": "ipython",
    "version": 3
   },
   "file_extension": ".py",
   "mimetype": "text/x-python",
   "name": "python",
   "nbconvert_exporter": "python",
   "pygments_lexer": "ipython3",
   "version": "3.6.8"
  }
 },
 "nbformat": 4,
 "nbformat_minor": 2
}
