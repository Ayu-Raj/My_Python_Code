{
 "cells": [
  {
   "cell_type": "code",
   "execution_count": 11,
   "metadata": {},
   "outputs": [],
   "source": [
    "from IPython.display import clear_output\n",
    "def display_board(b):\n",
    "    clear_output()\n",
    "    print('   |    |')\n",
    "    print(''+ b[1] + '  |  ' + b[2] + ' |  ' +b [3])\n",
    "    print('   |    |')\n",
    "    print('------------')\n",
    "    print('   |    |')\n",
    "    print(''+b[4]  +'  |  '+b[5]+' |  '+b[6])\n",
    "    print('   |    |')\n",
    "    print('------------')\n",
    "    print('   |    |')\n",
    "    print('' +b[7]+'  |  '+b[8]+' |  '+b[9])\n",
    "    print('   |    |')\n",
    "    "
   ]
  },
  {
   "cell_type": "code",
   "execution_count": 12,
   "metadata": {},
   "outputs": [
    {
     "name": "stdout",
     "output_type": "stream",
     "text": [
      "   |    |\n",
      "o  |  x |  o\n",
      "   |    |\n",
      "------------\n",
      "   |    |\n",
      "x  |  o |  x\n",
      "   |    |\n",
      "------------\n",
      "   |    |\n",
      "o  |  x |  o\n",
      "   |    |\n"
     ]
    }
   ],
   "source": [
    "test =['#','o','x','o','x','o','x','o','x','o']\n",
    "display_board(test)"
   ]
  },
  {
   "cell_type": "code",
   "execution_count": 13,
   "metadata": {},
   "outputs": [],
   "source": [
    "def player_input():\n",
    "    markerer=''\n",
    "    \n",
    "    while markerer != 'X' and markerer != 'Y':\n",
    "        markerer =input('PLAYER 1 CHOOSE EITHER OF [X] OR [O] ').upper()\n",
    "        player1= markerer\n",
    "        if player1 == 'X':\n",
    "            player2='O'\n",
    "        else:\n",
    "            player2='X'\n",
    "        return (player1,player2)    "
   ]
  },
  {
   "cell_type": "code",
   "execution_count": 15,
   "metadata": {},
   "outputs": [
    {
     "name": "stdout",
     "output_type": "stream",
     "text": [
      "PLAYER 1 CHOOSE EITHER OF [X] OR [O] x\n"
     ]
    },
    {
     "data": {
      "text/plain": [
       "('X', 'O')"
      ]
     },
     "execution_count": 15,
     "metadata": {},
     "output_type": "execute_result"
    }
   ],
   "source": [
    "player_input()"
   ]
  },
  {
   "cell_type": "code",
   "execution_count": 16,
   "metadata": {},
   "outputs": [],
   "source": [
    "def place_markerer(b,markerer,position):\n",
    "    b[position]=markerer"
   ]
  },
  {
   "cell_type": "code",
   "execution_count": 22,
   "metadata": {},
   "outputs": [
    {
     "name": "stdout",
     "output_type": "stream",
     "text": [
      "   |    |\n",
      "o  |  x |  o\n",
      "   |    |\n",
      "------------\n",
      "   |    |\n",
      "x  |  o |  x\n",
      "   |    |\n",
      "------------\n",
      "   |    |\n",
      "$  |  x |  o\n",
      "   |    |\n"
     ]
    }
   ],
   "source": [
    "place_markerer(test,'$',7)\n",
    "display_board(test)"
   ]
  },
  {
   "cell_type": "code",
   "execution_count": 26,
   "metadata": {},
   "outputs": [],
   "source": [
    "def win_check(b,marker):\n",
    "    return((b[1]==marker and b[2]==marker and b[3]==marker) or\n",
    "    (b[4]==marker and b[5]==marker and b[6]==marker) or\n",
    "    (b[7]==marker and b[8]==marker and b[9]==marker) or\n",
    "    (b[1]==marker and b[4]==marker and b[7]==marker) or\n",
    "    (b[2]==marker and b[5]==marker and b[8]==marker) or\n",
    "    (b[3]==marker and b[6]==marker and b[9]==marker) or\n",
    "    (b[1]==marker and b[5]==marker and b[9]==marker) or\n",
    "    (b[3]==marker and b[5]==marker and b[7]==marker)) "
   ]
  },
  {
   "cell_type": "code",
   "execution_count": 28,
   "metadata": {},
   "outputs": [
    {
     "name": "stdout",
     "output_type": "stream",
     "text": [
      "   |    |\n",
      "o  |  x |  o\n",
      "   |    |\n",
      "------------\n",
      "   |    |\n",
      "x  |  o |  x\n",
      "   |    |\n",
      "------------\n",
      "   |    |\n",
      "$  |  x |  o\n",
      "   |    |\n"
     ]
    },
    {
     "data": {
      "text/plain": [
       "False"
      ]
     },
     "execution_count": 28,
     "metadata": {},
     "output_type": "execute_result"
    }
   ],
   "source": [
    "display_board(test)\n",
    "win_check(test,'X')"
   ]
  },
  {
   "cell_type": "code",
   "execution_count": 29,
   "metadata": {},
   "outputs": [],
   "source": [
    "import random\n",
    "def choose_f():\n",
    "    flip=random.randint(0,1)\n",
    "    if flip == 0:\n",
    "        return 'player1'\n",
    "    else:\n",
    "        return 'player2'"
   ]
  },
  {
   "cell_type": "code",
   "execution_count": 31,
   "metadata": {},
   "outputs": [],
   "source": [
    "def space_check(b,position):\n",
    "    return b[position] == ''\n",
    "    "
   ]
  },
  {
   "cell_type": "code",
   "execution_count": 33,
   "metadata": {},
   "outputs": [],
   "source": [
    "def fill_board(b,position):\n",
    "    for _ in range(1,10):\n",
    "        if space_check(b,_):\n",
    "            return False\n",
    "    else:\n",
    "        return True  \n",
    "        "
   ]
  },
  {
   "cell_type": "code",
   "execution_count": 35,
   "metadata": {},
   "outputs": [],
   "source": [
    "def player_choice(b):\n",
    "    position=0\n",
    "    while position not in [1,2,3,4,5,6,7,8,9] or not space_check(b,position):\n",
    "        position=int(input('CHOOSE A POSITION [1-9] '))\n",
    "    return position    "
   ]
  },
  {
   "cell_type": "code",
   "execution_count": 37,
   "metadata": {},
   "outputs": [],
   "source": [
    "def replay():\n",
    "    choice =input('WANNA PLAY AGAIN ? YES or NO').lower()\n",
    "    return choice == 'yes'"
   ]
  },
  {
   "cell_type": "code",
   "execution_count": null,
   "metadata": {},
   "outputs": [],
   "source": []
  }
 ],
 "metadata": {
  "kernelspec": {
   "display_name": "Python 3",
   "language": "python",
   "name": "python3"
  },
  "language_info": {
   "codemirror_mode": {
    "name": "ipython",
    "version": 3
   },
   "file_extension": ".py",
   "mimetype": "text/x-python",
   "name": "python",
   "nbconvert_exporter": "python",
   "pygments_lexer": "ipython3",
   "version": "3.6.8"
  }
 },
 "nbformat": 4,
 "nbformat_minor": 2
}
